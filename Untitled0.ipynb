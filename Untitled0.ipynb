{
  "nbformat": 4,
  "nbformat_minor": 0,
  "metadata": {
    "colab": {
      "provenance": []
    },
    "kernelspec": {
      "name": "python3",
      "display_name": "Python 3"
    },
    "language_info": {
      "name": "python"
    }
  },
  "cells": [
    {
      "cell_type": "code",
      "execution_count": null,
      "metadata": {
        "id": "UClnPHNCdaO9"
      },
      "outputs": [],
      "source": [
        "import pandas as pd\n",
        "import matplotlib.pyplot as plt\n",
        "import numpy as np"
      ]
    },
    {
      "cell_type": "code",
      "source": [
        "df = pd.read_csv('/content/training_data.csv')"
      ],
      "metadata": {
        "id": "bblfp-Uxdj-V"
      },
      "execution_count": null,
      "outputs": []
    },
    {
      "cell_type": "code",
      "source": [
        "df = df.drop(['Unnamed: 133'], axis = 1)"
      ],
      "metadata": {
        "id": "ZfaNJpoxe4J3"
      },
      "execution_count": null,
      "outputs": []
    },
    {
      "cell_type": "code",
      "source": [
        "X = df.drop('prognosis', axis=1)\n",
        "y = df['prognosis']"
      ],
      "metadata": {
        "id": "ckMPRPjwdj22"
      },
      "execution_count": null,
      "outputs": []
    },
    {
      "cell_type": "code",
      "source": [
        "test = pd.read_csv('test_data.csv')\n",
        "a = test.drop('prognosis', axis=1)\n",
        "b = test['prognosis']"
      ],
      "metadata": {
        "id": "Fvpre3G6djeD"
      },
      "execution_count": null,
      "outputs": []
    },
    {
      "cell_type": "code",
      "source": [
        "from sklearn.ensemble import RandomForestClassifier\n",
        "from sklearn.metrics import accuracy_score\n",
        "from sklearn.model_selection import train_test_split\n",
        "import matplotlib.pyplot as plt\n",
        "import numpy as np\n",
        "\n",
        "# Load your dataset and split into training and testing sets\n",
        "# X, y = load_data()\n",
        "X_train, X_test, y_train, y_test = train_test_split(X, y, test_size=0.2)\n",
        "\n",
        "# Initialize an empty list to store training and testing errors\n",
        "training_errors = []\n",
        "testing_errors = []\n",
        "\n",
        "# Train the model with different numbers of trees and store the errors\n",
        "num_trees = range(1, 101)\n",
        "for n in num_trees:\n",
        "    # Initialize random forest with given number of trees\n",
        "    forest = RandomForestClassifier(n_estimators=n)\n",
        "    # Train on training set\n",
        "    forest.fit(X_train, y_train)\n",
        "    # Calculate training and testing errors\n",
        "    train_error = 1 - accuracy_score(y_train, forest.predict(X_train))\n",
        "    test_error = 1 - accuracy_score(b, forest.predict(a))\n",
        "    # print(1-test_error)\n",
        "    # Store errors in lists\n",
        "    training_errors.append(train_error)\n",
        "    testing_errors.append(test_error)\n",
        "\n",
        "# Plot the training and testing errors\n",
        "plt.plot(num_trees, training_errors, label='Training error')\n",
        "plt.plot(num_trees, testing_errors, label='Testing error')\n",
        "plt.xlabel('Number of trees in random forest')\n",
        "plt.ylabel('Error')\n",
        "plt.legend()\n",
        "plt.show()\n"
      ],
      "metadata": {
        "id": "SE74V1myfJ3H",
        "colab": {
          "base_uri": "https://localhost:8080/",
          "height": 283
        },
        "outputId": "fc4ae589-ec15-4743-dd02-fe563f450424"
      },
      "execution_count": null,
      "outputs": [
        {
          "output_type": "display_data",
          "data": {
            "text/plain": [
              "<Figure size 432x288 with 1 Axes>"
            ],
            "image/png": "[encoded data removed]"
          },
          "metadata": {
            "needs_background": "light"
          }
        }
      ]
    },
    {
      "cell_type": "code",
      "source": [
        "import joblib\n",
        "joblib.dump(forest, 'random_forest_model.joblib')"
      ],
      "metadata": {
        "colab": {
          "base_uri": "https://localhost:8080/"
        },
        "id": "K_udwN0KsIUw",
        "outputId": "e016b554-0da2-4d89-908e-c7d9e18ce627"
      },
      "execution_count": null,
      "outputs": [
        {
          "output_type": "execute_result",
          "data": {
            "text/plain": [
              "['random_forest_model.joblib']"
            ]
          },
          "metadata": {},
          "execution_count": 9
        }
      ]
    },
    {
      "cell_type": "code",
      "source": [
        "loaded_model = joblib.load('random_forest_model.joblib')\n",
        "\n",
        "predictions = loaded_model.predict(a)\n",
        "print(predictions)"
      ],
      "metadata": {
        "colab": {
          "base_uri": "https://localhost:8080/"
        },
        "id": "iWZkLZ11zk1-",
        "outputId": "1ac97f33-72d0-4558-8d5f-85711ae88269"
      },
      "execution_count": null,
      "outputs": [
        {
          "output_type": "stream",
          "name": "stdout",
          "text": [
            "['Fungal infection' 'Allergy' 'GERD' 'Chronic cholestasis' 'Drug Reaction'\n",
            " 'Peptic ulcer diseae' 'AIDS' 'Diabetes ' 'Gastroenteritis'\n",
            " 'Bronchial Asthma' 'Hypertension ' 'Migraine' 'Cervical spondylosis'\n",
            " 'Paralysis (brain hemorrhage)' 'Jaundice' 'Malaria' 'Chicken pox'\n",
            " 'Dengue' 'Typhoid' 'hepatitis A' 'Hepatitis B' 'Hepatitis C'\n",
            " 'Hepatitis D' 'Hepatitis E' 'Alcoholic hepatitis' 'Tuberculosis'\n",
            " 'Common Cold' 'Pneumonia' 'Dimorphic hemmorhoids(piles)' 'Heart attack'\n",
            " 'Varicose veins' 'Hypothyroidism' 'Hyperthyroidism' 'Hypoglycemia'\n",
            " 'Osteoarthristis' 'Arthritis' '(vertigo) Paroymsal  Positional Vertigo'\n",
            " 'Acne' 'Urinary tract infection' 'Psoriasis' 'Impetigo' 'Psoriasis']\n"
          ]
        }
      ]
    },
    {
      "cell_type": "code",
      "source": [
        "print( accuracy_score(b, forest.predict(a)))"
      ],
      "metadata": {
        "colab": {
          "base_uri": "https://localhost:8080/"
        },
        "id": "4tQiltFG8-T2",
        "outputId": "1482521a-cd9a-43b2-b493-7fcbba41c515"
      },
      "execution_count": null,
      "outputs": [
        {
          "output_type": "stream",
          "name": "stdout",
          "text": [
            "0.9761904761904762\n"
          ]
        }
      ]
    },
    {
      "cell_type": "code",
      "source": [],
      "metadata": {
        "id": "fUA-8zeI_XKe"
      },
      "execution_count": null,
      "outputs": []
    }
  ]
}